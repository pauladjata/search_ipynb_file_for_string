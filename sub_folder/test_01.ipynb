“Scoreline wise, yes, but I think the processes and the things that we go through before a match and trying to execute – that’s always the challenge – and I had that spot on, which is really pleasing,” Barty said when asked if she could recall a better start to a major.

“And to be able to roll with that momentum the whole match – it was really good.”

Barty’s level since returning from a year away from the game has been remarkable.

Other players in her situation have taken time to find their feet over the past fortnight. The 24-year-old has added more strings to her bow.